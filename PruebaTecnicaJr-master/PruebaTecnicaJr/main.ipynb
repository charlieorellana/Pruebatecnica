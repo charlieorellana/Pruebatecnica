{
 "cells": [
  {
   "attachments": {},
   "cell_type": "markdown",
   "metadata": {},
   "source": [
    "## Prueba 1: Escriba un programa que determine si un año dado es un año bisiesto. Un año normal tiene 365 días, los años bisiestos tienen 366, con un día extra en febrero.\n",
    "\n",
    "Tips: Así es como se determina si un año en particular es un año bisiesto.\n",
    "En cada año que es divisible por 4\n",
    "**excepto** cada año que es divisible por 100\n",
    "**a menos que** el año también sea divisible por 400\n",
    "p.ej. El año 2000:\n",
    "2000 ÷ 4 = 500 (Bisiesto)\n",
    "2000 ÷ 100 = 20 (no bisiesto)\n",
    "2000 ÷ 400 = 5 (¡Bisiesto!)\n",
    "Así que el año 2000 es un año bisiesto.\n",
    "Pero el año 2100 no es un año bisiesto porque:\n",
    "2100 ÷ 4 = 525 (Bisiesto)\n",
    "2100 ÷ 100 = 21 (no bisiesto)\n",
    "2100 ÷ 400 = 5,25 (no bisiesto)"
   ]
  },
  {
   "cell_type": "code",
   "execution_count": 4,
   "metadata": {},
   "outputs": [
    {
     "name": "stdout",
     "output_type": "stream",
     "text": [
      "El año  2100  no es bisiesto\n"
     ]
    }
   ],
   "source": [
    "# Escribe tu solución aquí.\n",
    "anio = int(input(\"Ingrese un año: \"))\n",
    "if (anio % 4 == 0 and anio % 100 != 0) or anio % 400 == 0:\n",
    "    print(\"El año \",anio,\" es bisiesto\")\n",
    "else:\n",
    "    print(\"El año \",anio,\" no es bisiesto\")\n",
    "\n"
   ]
  },
  {
   "attachments": {},
   "cell_type": "markdown",
   "metadata": {},
   "source": [
    "## Prueba 2: Manejo de archivos JSON."
   ]
  },
  {
   "attachments": {},
   "cell_type": "markdown",
   "metadata": {},
   "source": [
    "2.1: Imprima el objeto Json en el formato correcto en la salida de la celda."
   ]
  },
  {
   "cell_type": "code",
   "execution_count": 5,
   "metadata": {},
   "outputs": [
    {
     "name": "stdout",
     "output_type": "stream",
     "text": [
      "{\"nombre\": \"Charlie\", \"email\": \"charlie55@gmail.com\", \"edad\": 31, \"pais\": \"El Salvador\"}\n",
      "\n"
     ]
    }
   ],
   "source": [
    "# Escribe tu solución aquí.\n",
    "import json\n",
    "\n",
    "datos = {\n",
    "    'nombre': 'Charlie',\n",
    "    'email': 'charlie55@gmail.com',\n",
    "    'edad': 31,\n",
    "    'pais': 'El Salvador',\n",
    "}\n",
    "\n",
    "cadena_json = json.dumps(datos)\n",
    "print(cadena_json)\n",
    "\n",
    "print()"
   ]
  },
  {
   "attachments": {},
   "cell_type": "markdown",
   "metadata": {},
   "source": [
    "2.2: Obtenga el último objeto anidado dentro de la llave \"OpenPositions\"."
   ]
  },
  {
   "cell_type": "code",
   "execution_count": 9,
   "metadata": {},
   "outputs": [
    {
     "name": "stdout",
     "output_type": "stream",
     "text": [
      "{'Name': 'Position 3', 'Description': 'This is position 3'}\n"
     ]
    }
   ],
   "source": [
    "# Escribe tu solución aquí.\n",
    "data = {\n",
    "  \"OpenPositions\": [\n",
    "    {\"Name\": \"Position 1\", \"Description\": \"This is position 1\"},\n",
    "    {\"Name\": \"Position 2\", \"Description\": \"This is position 2\"},\n",
    "    {\"Name\": \"Position 3\", \"Description\": \"This is position 3\"}\n",
    "  ]\n",
    "}\n",
    "\n",
    "open_positions = data.get(\"OpenPositions\")\n",
    "last_position = open_positions[-1] if open_positions else None\n",
    "\n",
    "print(last_position)"
   ]
  },
  {
   "attachments": {},
   "cell_type": "markdown",
   "metadata": {},
   "source": [
    "2.3: Cree una nueva llave llamada \"Relevance\" y agregue un valor de acuerdo con una regla lógica simple. en caso de que el\n",
    "La persona en la clave \"RequestedBy\" es un ejecutivo de nivel C (CFO, CEO o comienza con C.) asigne el\n",
    "valor de “Important”, de lo contrario asigne “Normal”."
   ]
  },
  {
   "cell_type": "code",
   "execution_count": 8,
   "metadata": {},
   "outputs": [
    {
     "name": "stdout",
     "output_type": "stream",
     "text": [
      "{'RequestedBy': 'CFO', 'Relevance': 'Important'}\n"
     ]
    }
   ],
   "source": [
    "# Escribe tu solución aquí.\n",
    "\n",
    "person = {\"RequestedBy\": \"CFO\"}\n",
    "\n",
    "if person[\"RequestedBy\"] in [\"CFO\", \"CEO\"] or person [\"RequestedBy\"].startswith(\"C\"):\n",
    "    person[\"Relevance\"] = \"Important\"\n",
    "else:\n",
    "    person[\"Relevance\"] = \"Normal\"\n",
    "\n",
    "print(person)"
   ]
  },
  {
   "attachments": {},
   "cell_type": "markdown",
   "metadata": {},
   "source": [
    "## Prueba 3:  Consume cualquier API (a tu discresión) y muestra ejemplos de como usar los métodos 'Get' y 'Post'. \n"
   ]
  },
  {
   "cell_type": "code",
   "execution_count": 11,
   "metadata": {},
   "outputs": [
    {
     "name": "stdout",
     "output_type": "stream",
     "text": [
      "Failed to retrieve weather information.\n",
      "Failed to retrieve weather information.\n"
     ]
    }
   ],
   "source": [
    "# Escribe tu solución aquí\n",
    "# API key\n",
    "import requests\n",
    "api_key = \"your_api_key_here\"\n",
    "\n",
    "# URL for the API request\n",
    "url = f\"http://api.openweathermap.org/data/2.5/weather?q=London,uk&appid={api_key}\"\n",
    "\n",
    "# Send a GET request to the API and retrieve the response\n",
    "response = requests.get(url)\n",
    "\n",
    "# Check if the request was successful\n",
    "if response.status_code == 200:\n",
    "    # Get the JSON data from the response\n",
    "    data = response.json()\n",
    "    print(data)\n",
    "else:\n",
    "    print(\"Failed to retrieve weather information.\")\n",
    "\n",
    "# Metodo post ejemplo\n",
    "import requests\n",
    "\n",
    "# API endpoint\n",
    "url = \"http://api.openweathermap.org/data/2.5/weather\"\n",
    "\n",
    "# API key\n",
    "api_key = \"your_api_key_here\"\n",
    "\n",
    "# Data to be sent in the POST request\n",
    "data = {\n",
    "    \"q\": \"London,uk\",\n",
    "    \"appid\": api_key\n",
    "}\n",
    "\n",
    "# Send a POST request to the API and retrieve the response\n",
    "response = requests.post(url, data=data)\n",
    "\n",
    "# Check if the request was successful\n",
    "if response.status_code == 200:\n",
    "    # Get the JSON data from the response\n",
    "    data = response.json()\n",
    "    print(data)\n",
    "else:\n",
    "    print(\"Failed to retrieve weather information.\")"
   ]
  }
 ],
 "metadata": {
  "kernelspec": {
   "display_name": "Python 3",
   "language": "python",
   "name": "python3"
  },
  "language_info": {
   "codemirror_mode": {
    "name": "ipython",
    "version": 3
   },
   "file_extension": ".py",
   "mimetype": "text/x-python",
   "name": "python",
   "nbconvert_exporter": "python",
   "pygments_lexer": "ipython3",
   "version": "3.11.1"
  },
  "orig_nbformat": 4,
  "vscode": {
   "interpreter": {
    "hash": "5a1d9350e463df1117840155ed4564bbcc44ddefeaf744f048d68c3b32aa0a9a"
   }
  }
 },
 "nbformat": 4,
 "nbformat_minor": 2
}
